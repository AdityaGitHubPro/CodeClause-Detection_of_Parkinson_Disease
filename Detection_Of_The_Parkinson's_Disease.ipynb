{
  "nbformat": 4,
  "nbformat_minor": 0,
  "metadata": {
    "colab": {
      "provenance": [],
      "authorship_tag": "ABX9TyPT39dyEJvHE9OMIHNXMXvP",
      "include_colab_link": true
    },
    "kernelspec": {
      "name": "python3",
      "display_name": "Python 3"
    },
    "language_info": {
      "name": "python"
    }
  },
  "cells": [
    {
      "cell_type": "markdown",
      "metadata": {
        "id": "view-in-github",
        "colab_type": "text"
      },
      "source": [
        "<a href=\"https://colab.research.google.com/github/AdityaGitHubPro/CodeClause-Detection_of_Parkinson_Disease/blob/main/Detection_Of_The_Parkinson's_Disease.ipynb\" target=\"_parent\"><img src=\"https://colab.research.google.com/assets/colab-badge.svg\" alt=\"Open In Colab\"/></a>"
      ]
    },
    {
      "cell_type": "markdown",
      "source": [
        "# **Detection of the Parkinson's Disease**"
      ],
      "metadata": {
        "id": "6WWJNNUwY2ky"
      }
    },
    {
      "cell_type": "code",
      "source": [
        "import numpy as np\n",
        "import pandas as pd"
      ],
      "metadata": {
        "id": "7p4xLacGZCsB"
      },
      "execution_count": 18,
      "outputs": []
    },
    {
      "cell_type": "markdown",
      "source": [
        "### **Importing the DataSet**"
      ],
      "metadata": {
        "id": "Z-LG-uiAwN4A"
      }
    },
    {
      "cell_type": "code",
      "source": [
        "df = pd.read_csv('/content/drive/MyDrive/Data Set Of Machine Learning/pd_speech_features.csv')"
      ],
      "metadata": {
        "id": "2dMrpx35cuLk"
      },
      "execution_count": 19,
      "outputs": []
    },
    {
      "cell_type": "code",
      "source": [
        "df.head()"
      ],
      "metadata": {
        "colab": {
          "base_uri": "https://localhost:8080/",
          "height": 299
        },
        "id": "nd5CzEJUc1D9",
        "outputId": "843c9de5-f038-4fd1-d051-4864d86b7abe"
      },
      "execution_count": 20,
      "outputs": [
        {
          "output_type": "execute_result",
          "data": {
            "text/plain": [
              "   id  gender      PPE      DFA     RPDE  numPulses  numPeriodsPulses  \\\n",
              "0   0       1  0.85247  0.71826  0.57227        240               239   \n",
              "1   0       1  0.76686  0.69481  0.53966        234               233   \n",
              "2   0       1  0.85083  0.67604  0.58982        232               231   \n",
              "3   1       0  0.41121  0.79672  0.59257        178               177   \n",
              "4   1       0  0.32790  0.79782  0.53028        236               235   \n",
              "\n",
              "   meanPeriodPulses  stdDevPeriodPulses  locPctJitter  ...  \\\n",
              "0          0.008064            0.000087       0.00218  ...   \n",
              "1          0.008258            0.000073       0.00195  ...   \n",
              "2          0.008340            0.000060       0.00176  ...   \n",
              "3          0.010858            0.000183       0.00419  ...   \n",
              "4          0.008162            0.002669       0.00535  ...   \n",
              "\n",
              "   tqwt_kurtosisValue_dec_28  tqwt_kurtosisValue_dec_29  \\\n",
              "0                     1.5620                     2.6445   \n",
              "1                     1.5589                     3.6107   \n",
              "2                     1.5643                     2.3308   \n",
              "3                     3.7805                     3.5664   \n",
              "4                     6.1727                     5.8416   \n",
              "\n",
              "   tqwt_kurtosisValue_dec_30  tqwt_kurtosisValue_dec_31  \\\n",
              "0                     3.8686                     4.2105   \n",
              "1                    23.5155                    14.1962   \n",
              "2                     9.4959                    10.7458   \n",
              "3                     5.2558                    14.0403   \n",
              "4                     6.0805                     5.7621   \n",
              "\n",
              "   tqwt_kurtosisValue_dec_32  tqwt_kurtosisValue_dec_33  \\\n",
              "0                     5.1221                     4.4625   \n",
              "1                    11.0261                     9.5082   \n",
              "2                    11.0177                     4.8066   \n",
              "3                     4.2235                     4.6857   \n",
              "4                     7.7817                    11.6891   \n",
              "\n",
              "   tqwt_kurtosisValue_dec_34  tqwt_kurtosisValue_dec_35  \\\n",
              "0                     2.6202                     3.0004   \n",
              "1                     6.5245                     6.3431   \n",
              "2                     2.9199                     3.1495   \n",
              "3                     4.8460                     6.2650   \n",
              "4                     8.2103                     5.0559   \n",
              "\n",
              "   tqwt_kurtosisValue_dec_36  class  \n",
              "0                    18.9405      1  \n",
              "1                    45.1780      1  \n",
              "2                     4.7666      1  \n",
              "3                     4.0603      1  \n",
              "4                     6.1164      1  \n",
              "\n",
              "[5 rows x 755 columns]"
            ],
            "text/html": [
              "\n",
              "  <div id=\"df-eaf746c4-e7a2-4332-a3a9-04e35bf66ec6\">\n",
              "    <div class=\"colab-df-container\">\n",
              "      <div>\n",
              "<style scoped>\n",
              "    .dataframe tbody tr th:only-of-type {\n",
              "        vertical-align: middle;\n",
              "    }\n",
              "\n",
              "    .dataframe tbody tr th {\n",
              "        vertical-align: top;\n",
              "    }\n",
              "\n",
              "    .dataframe thead th {\n",
              "        text-align: right;\n",
              "    }\n",
              "</style>\n",
              "<table border=\"1\" class=\"dataframe\">\n",
              "  <thead>\n",
              "    <tr style=\"text-align: right;\">\n",
              "      <th></th>\n",
              "      <th>id</th>\n",
              "      <th>gender</th>\n",
              "      <th>PPE</th>\n",
              "      <th>DFA</th>\n",
              "      <th>RPDE</th>\n",
              "      <th>numPulses</th>\n",
              "      <th>numPeriodsPulses</th>\n",
              "      <th>meanPeriodPulses</th>\n",
              "      <th>stdDevPeriodPulses</th>\n",
              "      <th>locPctJitter</th>\n",
              "      <th>...</th>\n",
              "      <th>tqwt_kurtosisValue_dec_28</th>\n",
              "      <th>tqwt_kurtosisValue_dec_29</th>\n",
              "      <th>tqwt_kurtosisValue_dec_30</th>\n",
              "      <th>tqwt_kurtosisValue_dec_31</th>\n",
              "      <th>tqwt_kurtosisValue_dec_32</th>\n",
              "      <th>tqwt_kurtosisValue_dec_33</th>\n",
              "      <th>tqwt_kurtosisValue_dec_34</th>\n",
              "      <th>tqwt_kurtosisValue_dec_35</th>\n",
              "      <th>tqwt_kurtosisValue_dec_36</th>\n",
              "      <th>class</th>\n",
              "    </tr>\n",
              "  </thead>\n",
              "  <tbody>\n",
              "    <tr>\n",
              "      <th>0</th>\n",
              "      <td>0</td>\n",
              "      <td>1</td>\n",
              "      <td>0.85247</td>\n",
              "      <td>0.71826</td>\n",
              "      <td>0.57227</td>\n",
              "      <td>240</td>\n",
              "      <td>239</td>\n",
              "      <td>0.008064</td>\n",
              "      <td>0.000087</td>\n",
              "      <td>0.00218</td>\n",
              "      <td>...</td>\n",
              "      <td>1.5620</td>\n",
              "      <td>2.6445</td>\n",
              "      <td>3.8686</td>\n",
              "      <td>4.2105</td>\n",
              "      <td>5.1221</td>\n",
              "      <td>4.4625</td>\n",
              "      <td>2.6202</td>\n",
              "      <td>3.0004</td>\n",
              "      <td>18.9405</td>\n",
              "      <td>1</td>\n",
              "    </tr>\n",
              "    <tr>\n",
              "      <th>1</th>\n",
              "      <td>0</td>\n",
              "      <td>1</td>\n",
              "      <td>0.76686</td>\n",
              "      <td>0.69481</td>\n",
              "      <td>0.53966</td>\n",
              "      <td>234</td>\n",
              "      <td>233</td>\n",
              "      <td>0.008258</td>\n",
              "      <td>0.000073</td>\n",
              "      <td>0.00195</td>\n",
              "      <td>...</td>\n",
              "      <td>1.5589</td>\n",
              "      <td>3.6107</td>\n",
              "      <td>23.5155</td>\n",
              "      <td>14.1962</td>\n",
              "      <td>11.0261</td>\n",
              "      <td>9.5082</td>\n",
              "      <td>6.5245</td>\n",
              "      <td>6.3431</td>\n",
              "      <td>45.1780</td>\n",
              "      <td>1</td>\n",
              "    </tr>\n",
              "    <tr>\n",
              "      <th>2</th>\n",
              "      <td>0</td>\n",
              "      <td>1</td>\n",
              "      <td>0.85083</td>\n",
              "      <td>0.67604</td>\n",
              "      <td>0.58982</td>\n",
              "      <td>232</td>\n",
              "      <td>231</td>\n",
              "      <td>0.008340</td>\n",
              "      <td>0.000060</td>\n",
              "      <td>0.00176</td>\n",
              "      <td>...</td>\n",
              "      <td>1.5643</td>\n",
              "      <td>2.3308</td>\n",
              "      <td>9.4959</td>\n",
              "      <td>10.7458</td>\n",
              "      <td>11.0177</td>\n",
              "      <td>4.8066</td>\n",
              "      <td>2.9199</td>\n",
              "      <td>3.1495</td>\n",
              "      <td>4.7666</td>\n",
              "      <td>1</td>\n",
              "    </tr>\n",
              "    <tr>\n",
              "      <th>3</th>\n",
              "      <td>1</td>\n",
              "      <td>0</td>\n",
              "      <td>0.41121</td>\n",
              "      <td>0.79672</td>\n",
              "      <td>0.59257</td>\n",
              "      <td>178</td>\n",
              "      <td>177</td>\n",
              "      <td>0.010858</td>\n",
              "      <td>0.000183</td>\n",
              "      <td>0.00419</td>\n",
              "      <td>...</td>\n",
              "      <td>3.7805</td>\n",
              "      <td>3.5664</td>\n",
              "      <td>5.2558</td>\n",
              "      <td>14.0403</td>\n",
              "      <td>4.2235</td>\n",
              "      <td>4.6857</td>\n",
              "      <td>4.8460</td>\n",
              "      <td>6.2650</td>\n",
              "      <td>4.0603</td>\n",
              "      <td>1</td>\n",
              "    </tr>\n",
              "    <tr>\n",
              "      <th>4</th>\n",
              "      <td>1</td>\n",
              "      <td>0</td>\n",
              "      <td>0.32790</td>\n",
              "      <td>0.79782</td>\n",
              "      <td>0.53028</td>\n",
              "      <td>236</td>\n",
              "      <td>235</td>\n",
              "      <td>0.008162</td>\n",
              "      <td>0.002669</td>\n",
              "      <td>0.00535</td>\n",
              "      <td>...</td>\n",
              "      <td>6.1727</td>\n",
              "      <td>5.8416</td>\n",
              "      <td>6.0805</td>\n",
              "      <td>5.7621</td>\n",
              "      <td>7.7817</td>\n",
              "      <td>11.6891</td>\n",
              "      <td>8.2103</td>\n",
              "      <td>5.0559</td>\n",
              "      <td>6.1164</td>\n",
              "      <td>1</td>\n",
              "    </tr>\n",
              "  </tbody>\n",
              "</table>\n",
              "<p>5 rows × 755 columns</p>\n",
              "</div>\n",
              "      <button class=\"colab-df-convert\" onclick=\"convertToInteractive('df-eaf746c4-e7a2-4332-a3a9-04e35bf66ec6')\"\n",
              "              title=\"Convert this dataframe to an interactive table.\"\n",
              "              style=\"display:none;\">\n",
              "        \n",
              "  <svg xmlns=\"http://www.w3.org/2000/svg\" height=\"24px\"viewBox=\"0 0 24 24\"\n",
              "       width=\"24px\">\n",
              "    <path d=\"M0 0h24v24H0V0z\" fill=\"none\"/>\n",
              "    <path d=\"M18.56 5.44l.94 2.06.94-2.06 2.06-.94-2.06-.94-.94-2.06-.94 2.06-2.06.94zm-11 1L8.5 8.5l.94-2.06 2.06-.94-2.06-.94L8.5 2.5l-.94 2.06-2.06.94zm10 10l.94 2.06.94-2.06 2.06-.94-2.06-.94-.94-2.06-.94 2.06-2.06.94z\"/><path d=\"M17.41 7.96l-1.37-1.37c-.4-.4-.92-.59-1.43-.59-.52 0-1.04.2-1.43.59L10.3 9.45l-7.72 7.72c-.78.78-.78 2.05 0 2.83L4 21.41c.39.39.9.59 1.41.59.51 0 1.02-.2 1.41-.59l7.78-7.78 2.81-2.81c.8-.78.8-2.07 0-2.86zM5.41 20L4 18.59l7.72-7.72 1.47 1.35L5.41 20z\"/>\n",
              "  </svg>\n",
              "      </button>\n",
              "      \n",
              "  <style>\n",
              "    .colab-df-container {\n",
              "      display:flex;\n",
              "      flex-wrap:wrap;\n",
              "      gap: 12px;\n",
              "    }\n",
              "\n",
              "    .colab-df-convert {\n",
              "      background-color: #E8F0FE;\n",
              "      border: none;\n",
              "      border-radius: 50%;\n",
              "      cursor: pointer;\n",
              "      display: none;\n",
              "      fill: #1967D2;\n",
              "      height: 32px;\n",
              "      padding: 0 0 0 0;\n",
              "      width: 32px;\n",
              "    }\n",
              "\n",
              "    .colab-df-convert:hover {\n",
              "      background-color: #E2EBFA;\n",
              "      box-shadow: 0px 1px 2px rgba(60, 64, 67, 0.3), 0px 1px 3px 1px rgba(60, 64, 67, 0.15);\n",
              "      fill: #174EA6;\n",
              "    }\n",
              "\n",
              "    [theme=dark] .colab-df-convert {\n",
              "      background-color: #3B4455;\n",
              "      fill: #D2E3FC;\n",
              "    }\n",
              "\n",
              "    [theme=dark] .colab-df-convert:hover {\n",
              "      background-color: #434B5C;\n",
              "      box-shadow: 0px 1px 3px 1px rgba(0, 0, 0, 0.15);\n",
              "      filter: drop-shadow(0px 1px 2px rgba(0, 0, 0, 0.3));\n",
              "      fill: #FFFFFF;\n",
              "    }\n",
              "  </style>\n",
              "\n",
              "      <script>\n",
              "        const buttonEl =\n",
              "          document.querySelector('#df-eaf746c4-e7a2-4332-a3a9-04e35bf66ec6 button.colab-df-convert');\n",
              "        buttonEl.style.display =\n",
              "          google.colab.kernel.accessAllowed ? 'block' : 'none';\n",
              "\n",
              "        async function convertToInteractive(key) {\n",
              "          const element = document.querySelector('#df-eaf746c4-e7a2-4332-a3a9-04e35bf66ec6');\n",
              "          const dataTable =\n",
              "            await google.colab.kernel.invokeFunction('convertToInteractive',\n",
              "                                                     [key], {});\n",
              "          if (!dataTable) return;\n",
              "\n",
              "          const docLinkHtml = 'Like what you see? Visit the ' +\n",
              "            '<a target=\"_blank\" href=https://colab.research.google.com/notebooks/data_table.ipynb>data table notebook</a>'\n",
              "            + ' to learn more about interactive tables.';\n",
              "          element.innerHTML = '';\n",
              "          dataTable['output_type'] = 'display_data';\n",
              "          await google.colab.output.renderOutput(dataTable, element);\n",
              "          const docLink = document.createElement('div');\n",
              "          docLink.innerHTML = docLinkHtml;\n",
              "          element.appendChild(docLink);\n",
              "        }\n",
              "      </script>\n",
              "    </div>\n",
              "  </div>\n",
              "  "
            ]
          },
          "metadata": {},
          "execution_count": 20
        }
      ]
    },
    {
      "cell_type": "code",
      "source": [
        "df.tail()"
      ],
      "metadata": {
        "colab": {
          "base_uri": "https://localhost:8080/",
          "height": 299
        },
        "id": "QrY1C3Odc2lN",
        "outputId": "130e7749-56e9-4f17-f19c-2e9c51d26758"
      },
      "execution_count": 21,
      "outputs": [
        {
          "output_type": "execute_result",
          "data": {
            "text/plain": [
              "      id  gender      PPE      DFA     RPDE  numPulses  numPeriodsPulses  \\\n",
              "751  250       0  0.80903  0.56355  0.28385        417               416   \n",
              "752  250       0  0.16084  0.56499  0.59194        415               413   \n",
              "753  251       0  0.88389  0.72335  0.46815        381               380   \n",
              "754  251       0  0.83782  0.74890  0.49823        340               339   \n",
              "755  251       0  0.81304  0.76471  0.46374        340               339   \n",
              "\n",
              "     meanPeriodPulses  stdDevPeriodPulses  locPctJitter  ...  \\\n",
              "751          0.004627            0.000052       0.00064  ...   \n",
              "752          0.004550            0.000220       0.00143  ...   \n",
              "753          0.005069            0.000103       0.00076  ...   \n",
              "754          0.005679            0.000055       0.00092  ...   \n",
              "755          0.005676            0.000037       0.00078  ...   \n",
              "\n",
              "     tqwt_kurtosisValue_dec_28  tqwt_kurtosisValue_dec_29  \\\n",
              "751                     3.0706                     3.0190   \n",
              "752                     1.9704                     1.7451   \n",
              "753                    51.5607                    44.4641   \n",
              "754                    19.1607                    12.8312   \n",
              "755                    62.9927                    21.8152   \n",
              "\n",
              "     tqwt_kurtosisValue_dec_30  tqwt_kurtosisValue_dec_31  \\\n",
              "751                     3.1212                     2.4921   \n",
              "752                     1.8277                     2.4976   \n",
              "753                    26.1586                     6.3076   \n",
              "754                     8.9434                     2.2044   \n",
              "755                     9.2457                     4.8555   \n",
              "\n",
              "     tqwt_kurtosisValue_dec_32  tqwt_kurtosisValue_dec_33  \\\n",
              "751                     3.5844                     3.5400   \n",
              "752                     5.2981                     4.2616   \n",
              "753                     2.8601                     2.5361   \n",
              "754                     1.9496                     1.9664   \n",
              "755                     3.0551                     3.0415   \n",
              "\n",
              "     tqwt_kurtosisValue_dec_34  tqwt_kurtosisValue_dec_35  \\\n",
              "751                     3.3805                     3.2003   \n",
              "752                     6.3042                    10.9058   \n",
              "753                     3.5377                     3.3545   \n",
              "754                     2.6801                     2.8332   \n",
              "755                     4.0116                     2.6217   \n",
              "\n",
              "     tqwt_kurtosisValue_dec_36  class  \n",
              "751                     6.8671      0  \n",
              "752                    28.4170      0  \n",
              "753                     5.0424      0  \n",
              "754                     3.7131      0  \n",
              "755                     3.1527      0  \n",
              "\n",
              "[5 rows x 755 columns]"
            ],
            "text/html": [
              "\n",
              "  <div id=\"df-10a49635-c415-4fe2-9d16-4107b4f3fc09\">\n",
              "    <div class=\"colab-df-container\">\n",
              "      <div>\n",
              "<style scoped>\n",
              "    .dataframe tbody tr th:only-of-type {\n",
              "        vertical-align: middle;\n",
              "    }\n",
              "\n",
              "    .dataframe tbody tr th {\n",
              "        vertical-align: top;\n",
              "    }\n",
              "\n",
              "    .dataframe thead th {\n",
              "        text-align: right;\n",
              "    }\n",
              "</style>\n",
              "<table border=\"1\" class=\"dataframe\">\n",
              "  <thead>\n",
              "    <tr style=\"text-align: right;\">\n",
              "      <th></th>\n",
              "      <th>id</th>\n",
              "      <th>gender</th>\n",
              "      <th>PPE</th>\n",
              "      <th>DFA</th>\n",
              "      <th>RPDE</th>\n",
              "      <th>numPulses</th>\n",
              "      <th>numPeriodsPulses</th>\n",
              "      <th>meanPeriodPulses</th>\n",
              "      <th>stdDevPeriodPulses</th>\n",
              "      <th>locPctJitter</th>\n",
              "      <th>...</th>\n",
              "      <th>tqwt_kurtosisValue_dec_28</th>\n",
              "      <th>tqwt_kurtosisValue_dec_29</th>\n",
              "      <th>tqwt_kurtosisValue_dec_30</th>\n",
              "      <th>tqwt_kurtosisValue_dec_31</th>\n",
              "      <th>tqwt_kurtosisValue_dec_32</th>\n",
              "      <th>tqwt_kurtosisValue_dec_33</th>\n",
              "      <th>tqwt_kurtosisValue_dec_34</th>\n",
              "      <th>tqwt_kurtosisValue_dec_35</th>\n",
              "      <th>tqwt_kurtosisValue_dec_36</th>\n",
              "      <th>class</th>\n",
              "    </tr>\n",
              "  </thead>\n",
              "  <tbody>\n",
              "    <tr>\n",
              "      <th>751</th>\n",
              "      <td>250</td>\n",
              "      <td>0</td>\n",
              "      <td>0.80903</td>\n",
              "      <td>0.56355</td>\n",
              "      <td>0.28385</td>\n",
              "      <td>417</td>\n",
              "      <td>416</td>\n",
              "      <td>0.004627</td>\n",
              "      <td>0.000052</td>\n",
              "      <td>0.00064</td>\n",
              "      <td>...</td>\n",
              "      <td>3.0706</td>\n",
              "      <td>3.0190</td>\n",
              "      <td>3.1212</td>\n",
              "      <td>2.4921</td>\n",
              "      <td>3.5844</td>\n",
              "      <td>3.5400</td>\n",
              "      <td>3.3805</td>\n",
              "      <td>3.2003</td>\n",
              "      <td>6.8671</td>\n",
              "      <td>0</td>\n",
              "    </tr>\n",
              "    <tr>\n",
              "      <th>752</th>\n",
              "      <td>250</td>\n",
              "      <td>0</td>\n",
              "      <td>0.16084</td>\n",
              "      <td>0.56499</td>\n",
              "      <td>0.59194</td>\n",
              "      <td>415</td>\n",
              "      <td>413</td>\n",
              "      <td>0.004550</td>\n",
              "      <td>0.000220</td>\n",
              "      <td>0.00143</td>\n",
              "      <td>...</td>\n",
              "      <td>1.9704</td>\n",
              "      <td>1.7451</td>\n",
              "      <td>1.8277</td>\n",
              "      <td>2.4976</td>\n",
              "      <td>5.2981</td>\n",
              "      <td>4.2616</td>\n",
              "      <td>6.3042</td>\n",
              "      <td>10.9058</td>\n",
              "      <td>28.4170</td>\n",
              "      <td>0</td>\n",
              "    </tr>\n",
              "    <tr>\n",
              "      <th>753</th>\n",
              "      <td>251</td>\n",
              "      <td>0</td>\n",
              "      <td>0.88389</td>\n",
              "      <td>0.72335</td>\n",
              "      <td>0.46815</td>\n",
              "      <td>381</td>\n",
              "      <td>380</td>\n",
              "      <td>0.005069</td>\n",
              "      <td>0.000103</td>\n",
              "      <td>0.00076</td>\n",
              "      <td>...</td>\n",
              "      <td>51.5607</td>\n",
              "      <td>44.4641</td>\n",
              "      <td>26.1586</td>\n",
              "      <td>6.3076</td>\n",
              "      <td>2.8601</td>\n",
              "      <td>2.5361</td>\n",
              "      <td>3.5377</td>\n",
              "      <td>3.3545</td>\n",
              "      <td>5.0424</td>\n",
              "      <td>0</td>\n",
              "    </tr>\n",
              "    <tr>\n",
              "      <th>754</th>\n",
              "      <td>251</td>\n",
              "      <td>0</td>\n",
              "      <td>0.83782</td>\n",
              "      <td>0.74890</td>\n",
              "      <td>0.49823</td>\n",
              "      <td>340</td>\n",
              "      <td>339</td>\n",
              "      <td>0.005679</td>\n",
              "      <td>0.000055</td>\n",
              "      <td>0.00092</td>\n",
              "      <td>...</td>\n",
              "      <td>19.1607</td>\n",
              "      <td>12.8312</td>\n",
              "      <td>8.9434</td>\n",
              "      <td>2.2044</td>\n",
              "      <td>1.9496</td>\n",
              "      <td>1.9664</td>\n",
              "      <td>2.6801</td>\n",
              "      <td>2.8332</td>\n",
              "      <td>3.7131</td>\n",
              "      <td>0</td>\n",
              "    </tr>\n",
              "    <tr>\n",
              "      <th>755</th>\n",
              "      <td>251</td>\n",
              "      <td>0</td>\n",
              "      <td>0.81304</td>\n",
              "      <td>0.76471</td>\n",
              "      <td>0.46374</td>\n",
              "      <td>340</td>\n",
              "      <td>339</td>\n",
              "      <td>0.005676</td>\n",
              "      <td>0.000037</td>\n",
              "      <td>0.00078</td>\n",
              "      <td>...</td>\n",
              "      <td>62.9927</td>\n",
              "      <td>21.8152</td>\n",
              "      <td>9.2457</td>\n",
              "      <td>4.8555</td>\n",
              "      <td>3.0551</td>\n",
              "      <td>3.0415</td>\n",
              "      <td>4.0116</td>\n",
              "      <td>2.6217</td>\n",
              "      <td>3.1527</td>\n",
              "      <td>0</td>\n",
              "    </tr>\n",
              "  </tbody>\n",
              "</table>\n",
              "<p>5 rows × 755 columns</p>\n",
              "</div>\n",
              "      <button class=\"colab-df-convert\" onclick=\"convertToInteractive('df-10a49635-c415-4fe2-9d16-4107b4f3fc09')\"\n",
              "              title=\"Convert this dataframe to an interactive table.\"\n",
              "              style=\"display:none;\">\n",
              "        \n",
              "  <svg xmlns=\"http://www.w3.org/2000/svg\" height=\"24px\"viewBox=\"0 0 24 24\"\n",
              "       width=\"24px\">\n",
              "    <path d=\"M0 0h24v24H0V0z\" fill=\"none\"/>\n",
              "    <path d=\"M18.56 5.44l.94 2.06.94-2.06 2.06-.94-2.06-.94-.94-2.06-.94 2.06-2.06.94zm-11 1L8.5 8.5l.94-2.06 2.06-.94-2.06-.94L8.5 2.5l-.94 2.06-2.06.94zm10 10l.94 2.06.94-2.06 2.06-.94-2.06-.94-.94-2.06-.94 2.06-2.06.94z\"/><path d=\"M17.41 7.96l-1.37-1.37c-.4-.4-.92-.59-1.43-.59-.52 0-1.04.2-1.43.59L10.3 9.45l-7.72 7.72c-.78.78-.78 2.05 0 2.83L4 21.41c.39.39.9.59 1.41.59.51 0 1.02-.2 1.41-.59l7.78-7.78 2.81-2.81c.8-.78.8-2.07 0-2.86zM5.41 20L4 18.59l7.72-7.72 1.47 1.35L5.41 20z\"/>\n",
              "  </svg>\n",
              "      </button>\n",
              "      \n",
              "  <style>\n",
              "    .colab-df-container {\n",
              "      display:flex;\n",
              "      flex-wrap:wrap;\n",
              "      gap: 12px;\n",
              "    }\n",
              "\n",
              "    .colab-df-convert {\n",
              "      background-color: #E8F0FE;\n",
              "      border: none;\n",
              "      border-radius: 50%;\n",
              "      cursor: pointer;\n",
              "      display: none;\n",
              "      fill: #1967D2;\n",
              "      height: 32px;\n",
              "      padding: 0 0 0 0;\n",
              "      width: 32px;\n",
              "    }\n",
              "\n",
              "    .colab-df-convert:hover {\n",
              "      background-color: #E2EBFA;\n",
              "      box-shadow: 0px 1px 2px rgba(60, 64, 67, 0.3), 0px 1px 3px 1px rgba(60, 64, 67, 0.15);\n",
              "      fill: #174EA6;\n",
              "    }\n",
              "\n",
              "    [theme=dark] .colab-df-convert {\n",
              "      background-color: #3B4455;\n",
              "      fill: #D2E3FC;\n",
              "    }\n",
              "\n",
              "    [theme=dark] .colab-df-convert:hover {\n",
              "      background-color: #434B5C;\n",
              "      box-shadow: 0px 1px 3px 1px rgba(0, 0, 0, 0.15);\n",
              "      filter: drop-shadow(0px 1px 2px rgba(0, 0, 0, 0.3));\n",
              "      fill: #FFFFFF;\n",
              "    }\n",
              "  </style>\n",
              "\n",
              "      <script>\n",
              "        const buttonEl =\n",
              "          document.querySelector('#df-10a49635-c415-4fe2-9d16-4107b4f3fc09 button.colab-df-convert');\n",
              "        buttonEl.style.display =\n",
              "          google.colab.kernel.accessAllowed ? 'block' : 'none';\n",
              "\n",
              "        async function convertToInteractive(key) {\n",
              "          const element = document.querySelector('#df-10a49635-c415-4fe2-9d16-4107b4f3fc09');\n",
              "          const dataTable =\n",
              "            await google.colab.kernel.invokeFunction('convertToInteractive',\n",
              "                                                     [key], {});\n",
              "          if (!dataTable) return;\n",
              "\n",
              "          const docLinkHtml = 'Like what you see? Visit the ' +\n",
              "            '<a target=\"_blank\" href=https://colab.research.google.com/notebooks/data_table.ipynb>data table notebook</a>'\n",
              "            + ' to learn more about interactive tables.';\n",
              "          element.innerHTML = '';\n",
              "          dataTable['output_type'] = 'display_data';\n",
              "          await google.colab.output.renderOutput(dataTable, element);\n",
              "          const docLink = document.createElement('div');\n",
              "          docLink.innerHTML = docLinkHtml;\n",
              "          element.appendChild(docLink);\n",
              "        }\n",
              "      </script>\n",
              "    </div>\n",
              "  </div>\n",
              "  "
            ]
          },
          "metadata": {},
          "execution_count": 21
        }
      ]
    },
    {
      "cell_type": "code",
      "source": [
        "df.drop('id',axis = 1)"
      ],
      "metadata": {
        "colab": {
          "base_uri": "https://localhost:8080/",
          "height": 487
        },
        "id": "1WIQaFQsc5Bw",
        "outputId": "3328d990-8a1c-4fa5-ba8c-5ea1104e3aef"
      },
      "execution_count": 22,
      "outputs": [
        {
          "output_type": "execute_result",
          "data": {
            "text/plain": [
              "     gender      PPE      DFA     RPDE  numPulses  numPeriodsPulses  \\\n",
              "0         1  0.85247  0.71826  0.57227        240               239   \n",
              "1         1  0.76686  0.69481  0.53966        234               233   \n",
              "2         1  0.85083  0.67604  0.58982        232               231   \n",
              "3         0  0.41121  0.79672  0.59257        178               177   \n",
              "4         0  0.32790  0.79782  0.53028        236               235   \n",
              "..      ...      ...      ...      ...        ...               ...   \n",
              "751       0  0.80903  0.56355  0.28385        417               416   \n",
              "752       0  0.16084  0.56499  0.59194        415               413   \n",
              "753       0  0.88389  0.72335  0.46815        381               380   \n",
              "754       0  0.83782  0.74890  0.49823        340               339   \n",
              "755       0  0.81304  0.76471  0.46374        340               339   \n",
              "\n",
              "     meanPeriodPulses  stdDevPeriodPulses  locPctJitter  locAbsJitter  ...  \\\n",
              "0            0.008064            0.000087       0.00218      0.000018  ...   \n",
              "1            0.008258            0.000073       0.00195      0.000016  ...   \n",
              "2            0.008340            0.000060       0.00176      0.000015  ...   \n",
              "3            0.010858            0.000183       0.00419      0.000046  ...   \n",
              "4            0.008162            0.002669       0.00535      0.000044  ...   \n",
              "..                ...                 ...           ...           ...  ...   \n",
              "751          0.004627            0.000052       0.00064      0.000003  ...   \n",
              "752          0.004550            0.000220       0.00143      0.000006  ...   \n",
              "753          0.005069            0.000103       0.00076      0.000004  ...   \n",
              "754          0.005679            0.000055       0.00092      0.000005  ...   \n",
              "755          0.005676            0.000037       0.00078      0.000004  ...   \n",
              "\n",
              "     tqwt_kurtosisValue_dec_28  tqwt_kurtosisValue_dec_29  \\\n",
              "0                       1.5620                     2.6445   \n",
              "1                       1.5589                     3.6107   \n",
              "2                       1.5643                     2.3308   \n",
              "3                       3.7805                     3.5664   \n",
              "4                       6.1727                     5.8416   \n",
              "..                         ...                        ...   \n",
              "751                     3.0706                     3.0190   \n",
              "752                     1.9704                     1.7451   \n",
              "753                    51.5607                    44.4641   \n",
              "754                    19.1607                    12.8312   \n",
              "755                    62.9927                    21.8152   \n",
              "\n",
              "     tqwt_kurtosisValue_dec_30  tqwt_kurtosisValue_dec_31  \\\n",
              "0                       3.8686                     4.2105   \n",
              "1                      23.5155                    14.1962   \n",
              "2                       9.4959                    10.7458   \n",
              "3                       5.2558                    14.0403   \n",
              "4                       6.0805                     5.7621   \n",
              "..                         ...                        ...   \n",
              "751                     3.1212                     2.4921   \n",
              "752                     1.8277                     2.4976   \n",
              "753                    26.1586                     6.3076   \n",
              "754                     8.9434                     2.2044   \n",
              "755                     9.2457                     4.8555   \n",
              "\n",
              "     tqwt_kurtosisValue_dec_32  tqwt_kurtosisValue_dec_33  \\\n",
              "0                       5.1221                     4.4625   \n",
              "1                      11.0261                     9.5082   \n",
              "2                      11.0177                     4.8066   \n",
              "3                       4.2235                     4.6857   \n",
              "4                       7.7817                    11.6891   \n",
              "..                         ...                        ...   \n",
              "751                     3.5844                     3.5400   \n",
              "752                     5.2981                     4.2616   \n",
              "753                     2.8601                     2.5361   \n",
              "754                     1.9496                     1.9664   \n",
              "755                     3.0551                     3.0415   \n",
              "\n",
              "     tqwt_kurtosisValue_dec_34  tqwt_kurtosisValue_dec_35  \\\n",
              "0                       2.6202                     3.0004   \n",
              "1                       6.5245                     6.3431   \n",
              "2                       2.9199                     3.1495   \n",
              "3                       4.8460                     6.2650   \n",
              "4                       8.2103                     5.0559   \n",
              "..                         ...                        ...   \n",
              "751                     3.3805                     3.2003   \n",
              "752                     6.3042                    10.9058   \n",
              "753                     3.5377                     3.3545   \n",
              "754                     2.6801                     2.8332   \n",
              "755                     4.0116                     2.6217   \n",
              "\n",
              "     tqwt_kurtosisValue_dec_36  class  \n",
              "0                      18.9405      1  \n",
              "1                      45.1780      1  \n",
              "2                       4.7666      1  \n",
              "3                       4.0603      1  \n",
              "4                       6.1164      1  \n",
              "..                         ...    ...  \n",
              "751                     6.8671      0  \n",
              "752                    28.4170      0  \n",
              "753                     5.0424      0  \n",
              "754                     3.7131      0  \n",
              "755                     3.1527      0  \n",
              "\n",
              "[756 rows x 754 columns]"
            ],
            "text/html": [
              "\n",
              "  <div id=\"df-a4a48691-77de-46f6-b814-790e1d99a7fe\">\n",
              "    <div class=\"colab-df-container\">\n",
              "      <div>\n",
              "<style scoped>\n",
              "    .dataframe tbody tr th:only-of-type {\n",
              "        vertical-align: middle;\n",
              "    }\n",
              "\n",
              "    .dataframe tbody tr th {\n",
              "        vertical-align: top;\n",
              "    }\n",
              "\n",
              "    .dataframe thead th {\n",
              "        text-align: right;\n",
              "    }\n",
              "</style>\n",
              "<table border=\"1\" class=\"dataframe\">\n",
              "  <thead>\n",
              "    <tr style=\"text-align: right;\">\n",
              "      <th></th>\n",
              "      <th>gender</th>\n",
              "      <th>PPE</th>\n",
              "      <th>DFA</th>\n",
              "      <th>RPDE</th>\n",
              "      <th>numPulses</th>\n",
              "      <th>numPeriodsPulses</th>\n",
              "      <th>meanPeriodPulses</th>\n",
              "      <th>stdDevPeriodPulses</th>\n",
              "      <th>locPctJitter</th>\n",
              "      <th>locAbsJitter</th>\n",
              "      <th>...</th>\n",
              "      <th>tqwt_kurtosisValue_dec_28</th>\n",
              "      <th>tqwt_kurtosisValue_dec_29</th>\n",
              "      <th>tqwt_kurtosisValue_dec_30</th>\n",
              "      <th>tqwt_kurtosisValue_dec_31</th>\n",
              "      <th>tqwt_kurtosisValue_dec_32</th>\n",
              "      <th>tqwt_kurtosisValue_dec_33</th>\n",
              "      <th>tqwt_kurtosisValue_dec_34</th>\n",
              "      <th>tqwt_kurtosisValue_dec_35</th>\n",
              "      <th>tqwt_kurtosisValue_dec_36</th>\n",
              "      <th>class</th>\n",
              "    </tr>\n",
              "  </thead>\n",
              "  <tbody>\n",
              "    <tr>\n",
              "      <th>0</th>\n",
              "      <td>1</td>\n",
              "      <td>0.85247</td>\n",
              "      <td>0.71826</td>\n",
              "      <td>0.57227</td>\n",
              "      <td>240</td>\n",
              "      <td>239</td>\n",
              "      <td>0.008064</td>\n",
              "      <td>0.000087</td>\n",
              "      <td>0.00218</td>\n",
              "      <td>0.000018</td>\n",
              "      <td>...</td>\n",
              "      <td>1.5620</td>\n",
              "      <td>2.6445</td>\n",
              "      <td>3.8686</td>\n",
              "      <td>4.2105</td>\n",
              "      <td>5.1221</td>\n",
              "      <td>4.4625</td>\n",
              "      <td>2.6202</td>\n",
              "      <td>3.0004</td>\n",
              "      <td>18.9405</td>\n",
              "      <td>1</td>\n",
              "    </tr>\n",
              "    <tr>\n",
              "      <th>1</th>\n",
              "      <td>1</td>\n",
              "      <td>0.76686</td>\n",
              "      <td>0.69481</td>\n",
              "      <td>0.53966</td>\n",
              "      <td>234</td>\n",
              "      <td>233</td>\n",
              "      <td>0.008258</td>\n",
              "      <td>0.000073</td>\n",
              "      <td>0.00195</td>\n",
              "      <td>0.000016</td>\n",
              "      <td>...</td>\n",
              "      <td>1.5589</td>\n",
              "      <td>3.6107</td>\n",
              "      <td>23.5155</td>\n",
              "      <td>14.1962</td>\n",
              "      <td>11.0261</td>\n",
              "      <td>9.5082</td>\n",
              "      <td>6.5245</td>\n",
              "      <td>6.3431</td>\n",
              "      <td>45.1780</td>\n",
              "      <td>1</td>\n",
              "    </tr>\n",
              "    <tr>\n",
              "      <th>2</th>\n",
              "      <td>1</td>\n",
              "      <td>0.85083</td>\n",
              "      <td>0.67604</td>\n",
              "      <td>0.58982</td>\n",
              "      <td>232</td>\n",
              "      <td>231</td>\n",
              "      <td>0.008340</td>\n",
              "      <td>0.000060</td>\n",
              "      <td>0.00176</td>\n",
              "      <td>0.000015</td>\n",
              "      <td>...</td>\n",
              "      <td>1.5643</td>\n",
              "      <td>2.3308</td>\n",
              "      <td>9.4959</td>\n",
              "      <td>10.7458</td>\n",
              "      <td>11.0177</td>\n",
              "      <td>4.8066</td>\n",
              "      <td>2.9199</td>\n",
              "      <td>3.1495</td>\n",
              "      <td>4.7666</td>\n",
              "      <td>1</td>\n",
              "    </tr>\n",
              "    <tr>\n",
              "      <th>3</th>\n",
              "      <td>0</td>\n",
              "      <td>0.41121</td>\n",
              "      <td>0.79672</td>\n",
              "      <td>0.59257</td>\n",
              "      <td>178</td>\n",
              "      <td>177</td>\n",
              "      <td>0.010858</td>\n",
              "      <td>0.000183</td>\n",
              "      <td>0.00419</td>\n",
              "      <td>0.000046</td>\n",
              "      <td>...</td>\n",
              "      <td>3.7805</td>\n",
              "      <td>3.5664</td>\n",
              "      <td>5.2558</td>\n",
              "      <td>14.0403</td>\n",
              "      <td>4.2235</td>\n",
              "      <td>4.6857</td>\n",
              "      <td>4.8460</td>\n",
              "      <td>6.2650</td>\n",
              "      <td>4.0603</td>\n",
              "      <td>1</td>\n",
              "    </tr>\n",
              "    <tr>\n",
              "      <th>4</th>\n",
              "      <td>0</td>\n",
              "      <td>0.32790</td>\n",
              "      <td>0.79782</td>\n",
              "      <td>0.53028</td>\n",
              "      <td>236</td>\n",
              "      <td>235</td>\n",
              "      <td>0.008162</td>\n",
              "      <td>0.002669</td>\n",
              "      <td>0.00535</td>\n",
              "      <td>0.000044</td>\n",
              "      <td>...</td>\n",
              "      <td>6.1727</td>\n",
              "      <td>5.8416</td>\n",
              "      <td>6.0805</td>\n",
              "      <td>5.7621</td>\n",
              "      <td>7.7817</td>\n",
              "      <td>11.6891</td>\n",
              "      <td>8.2103</td>\n",
              "      <td>5.0559</td>\n",
              "      <td>6.1164</td>\n",
              "      <td>1</td>\n",
              "    </tr>\n",
              "    <tr>\n",
              "      <th>...</th>\n",
              "      <td>...</td>\n",
              "      <td>...</td>\n",
              "      <td>...</td>\n",
              "      <td>...</td>\n",
              "      <td>...</td>\n",
              "      <td>...</td>\n",
              "      <td>...</td>\n",
              "      <td>...</td>\n",
              "      <td>...</td>\n",
              "      <td>...</td>\n",
              "      <td>...</td>\n",
              "      <td>...</td>\n",
              "      <td>...</td>\n",
              "      <td>...</td>\n",
              "      <td>...</td>\n",
              "      <td>...</td>\n",
              "      <td>...</td>\n",
              "      <td>...</td>\n",
              "      <td>...</td>\n",
              "      <td>...</td>\n",
              "      <td>...</td>\n",
              "    </tr>\n",
              "    <tr>\n",
              "      <th>751</th>\n",
              "      <td>0</td>\n",
              "      <td>0.80903</td>\n",
              "      <td>0.56355</td>\n",
              "      <td>0.28385</td>\n",
              "      <td>417</td>\n",
              "      <td>416</td>\n",
              "      <td>0.004627</td>\n",
              "      <td>0.000052</td>\n",
              "      <td>0.00064</td>\n",
              "      <td>0.000003</td>\n",
              "      <td>...</td>\n",
              "      <td>3.0706</td>\n",
              "      <td>3.0190</td>\n",
              "      <td>3.1212</td>\n",
              "      <td>2.4921</td>\n",
              "      <td>3.5844</td>\n",
              "      <td>3.5400</td>\n",
              "      <td>3.3805</td>\n",
              "      <td>3.2003</td>\n",
              "      <td>6.8671</td>\n",
              "      <td>0</td>\n",
              "    </tr>\n",
              "    <tr>\n",
              "      <th>752</th>\n",
              "      <td>0</td>\n",
              "      <td>0.16084</td>\n",
              "      <td>0.56499</td>\n",
              "      <td>0.59194</td>\n",
              "      <td>415</td>\n",
              "      <td>413</td>\n",
              "      <td>0.004550</td>\n",
              "      <td>0.000220</td>\n",
              "      <td>0.00143</td>\n",
              "      <td>0.000006</td>\n",
              "      <td>...</td>\n",
              "      <td>1.9704</td>\n",
              "      <td>1.7451</td>\n",
              "      <td>1.8277</td>\n",
              "      <td>2.4976</td>\n",
              "      <td>5.2981</td>\n",
              "      <td>4.2616</td>\n",
              "      <td>6.3042</td>\n",
              "      <td>10.9058</td>\n",
              "      <td>28.4170</td>\n",
              "      <td>0</td>\n",
              "    </tr>\n",
              "    <tr>\n",
              "      <th>753</th>\n",
              "      <td>0</td>\n",
              "      <td>0.88389</td>\n",
              "      <td>0.72335</td>\n",
              "      <td>0.46815</td>\n",
              "      <td>381</td>\n",
              "      <td>380</td>\n",
              "      <td>0.005069</td>\n",
              "      <td>0.000103</td>\n",
              "      <td>0.00076</td>\n",
              "      <td>0.000004</td>\n",
              "      <td>...</td>\n",
              "      <td>51.5607</td>\n",
              "      <td>44.4641</td>\n",
              "      <td>26.1586</td>\n",
              "      <td>6.3076</td>\n",
              "      <td>2.8601</td>\n",
              "      <td>2.5361</td>\n",
              "      <td>3.5377</td>\n",
              "      <td>3.3545</td>\n",
              "      <td>5.0424</td>\n",
              "      <td>0</td>\n",
              "    </tr>\n",
              "    <tr>\n",
              "      <th>754</th>\n",
              "      <td>0</td>\n",
              "      <td>0.83782</td>\n",
              "      <td>0.74890</td>\n",
              "      <td>0.49823</td>\n",
              "      <td>340</td>\n",
              "      <td>339</td>\n",
              "      <td>0.005679</td>\n",
              "      <td>0.000055</td>\n",
              "      <td>0.00092</td>\n",
              "      <td>0.000005</td>\n",
              "      <td>...</td>\n",
              "      <td>19.1607</td>\n",
              "      <td>12.8312</td>\n",
              "      <td>8.9434</td>\n",
              "      <td>2.2044</td>\n",
              "      <td>1.9496</td>\n",
              "      <td>1.9664</td>\n",
              "      <td>2.6801</td>\n",
              "      <td>2.8332</td>\n",
              "      <td>3.7131</td>\n",
              "      <td>0</td>\n",
              "    </tr>\n",
              "    <tr>\n",
              "      <th>755</th>\n",
              "      <td>0</td>\n",
              "      <td>0.81304</td>\n",
              "      <td>0.76471</td>\n",
              "      <td>0.46374</td>\n",
              "      <td>340</td>\n",
              "      <td>339</td>\n",
              "      <td>0.005676</td>\n",
              "      <td>0.000037</td>\n",
              "      <td>0.00078</td>\n",
              "      <td>0.000004</td>\n",
              "      <td>...</td>\n",
              "      <td>62.9927</td>\n",
              "      <td>21.8152</td>\n",
              "      <td>9.2457</td>\n",
              "      <td>4.8555</td>\n",
              "      <td>3.0551</td>\n",
              "      <td>3.0415</td>\n",
              "      <td>4.0116</td>\n",
              "      <td>2.6217</td>\n",
              "      <td>3.1527</td>\n",
              "      <td>0</td>\n",
              "    </tr>\n",
              "  </tbody>\n",
              "</table>\n",
              "<p>756 rows × 754 columns</p>\n",
              "</div>\n",
              "      <button class=\"colab-df-convert\" onclick=\"convertToInteractive('df-a4a48691-77de-46f6-b814-790e1d99a7fe')\"\n",
              "              title=\"Convert this dataframe to an interactive table.\"\n",
              "              style=\"display:none;\">\n",
              "        \n",
              "  <svg xmlns=\"http://www.w3.org/2000/svg\" height=\"24px\"viewBox=\"0 0 24 24\"\n",
              "       width=\"24px\">\n",
              "    <path d=\"M0 0h24v24H0V0z\" fill=\"none\"/>\n",
              "    <path d=\"M18.56 5.44l.94 2.06.94-2.06 2.06-.94-2.06-.94-.94-2.06-.94 2.06-2.06.94zm-11 1L8.5 8.5l.94-2.06 2.06-.94-2.06-.94L8.5 2.5l-.94 2.06-2.06.94zm10 10l.94 2.06.94-2.06 2.06-.94-2.06-.94-.94-2.06-.94 2.06-2.06.94z\"/><path d=\"M17.41 7.96l-1.37-1.37c-.4-.4-.92-.59-1.43-.59-.52 0-1.04.2-1.43.59L10.3 9.45l-7.72 7.72c-.78.78-.78 2.05 0 2.83L4 21.41c.39.39.9.59 1.41.59.51 0 1.02-.2 1.41-.59l7.78-7.78 2.81-2.81c.8-.78.8-2.07 0-2.86zM5.41 20L4 18.59l7.72-7.72 1.47 1.35L5.41 20z\"/>\n",
              "  </svg>\n",
              "      </button>\n",
              "      \n",
              "  <style>\n",
              "    .colab-df-container {\n",
              "      display:flex;\n",
              "      flex-wrap:wrap;\n",
              "      gap: 12px;\n",
              "    }\n",
              "\n",
              "    .colab-df-convert {\n",
              "      background-color: #E8F0FE;\n",
              "      border: none;\n",
              "      border-radius: 50%;\n",
              "      cursor: pointer;\n",
              "      display: none;\n",
              "      fill: #1967D2;\n",
              "      height: 32px;\n",
              "      padding: 0 0 0 0;\n",
              "      width: 32px;\n",
              "    }\n",
              "\n",
              "    .colab-df-convert:hover {\n",
              "      background-color: #E2EBFA;\n",
              "      box-shadow: 0px 1px 2px rgba(60, 64, 67, 0.3), 0px 1px 3px 1px rgba(60, 64, 67, 0.15);\n",
              "      fill: #174EA6;\n",
              "    }\n",
              "\n",
              "    [theme=dark] .colab-df-convert {\n",
              "      background-color: #3B4455;\n",
              "      fill: #D2E3FC;\n",
              "    }\n",
              "\n",
              "    [theme=dark] .colab-df-convert:hover {\n",
              "      background-color: #434B5C;\n",
              "      box-shadow: 0px 1px 3px 1px rgba(0, 0, 0, 0.15);\n",
              "      filter: drop-shadow(0px 1px 2px rgba(0, 0, 0, 0.3));\n",
              "      fill: #FFFFFF;\n",
              "    }\n",
              "  </style>\n",
              "\n",
              "      <script>\n",
              "        const buttonEl =\n",
              "          document.querySelector('#df-a4a48691-77de-46f6-b814-790e1d99a7fe button.colab-df-convert');\n",
              "        buttonEl.style.display =\n",
              "          google.colab.kernel.accessAllowed ? 'block' : 'none';\n",
              "\n",
              "        async function convertToInteractive(key) {\n",
              "          const element = document.querySelector('#df-a4a48691-77de-46f6-b814-790e1d99a7fe');\n",
              "          const dataTable =\n",
              "            await google.colab.kernel.invokeFunction('convertToInteractive',\n",
              "                                                     [key], {});\n",
              "          if (!dataTable) return;\n",
              "\n",
              "          const docLinkHtml = 'Like what you see? Visit the ' +\n",
              "            '<a target=\"_blank\" href=https://colab.research.google.com/notebooks/data_table.ipynb>data table notebook</a>'\n",
              "            + ' to learn more about interactive tables.';\n",
              "          element.innerHTML = '';\n",
              "          dataTable['output_type'] = 'display_data';\n",
              "          await google.colab.output.renderOutput(dataTable, element);\n",
              "          const docLink = document.createElement('div');\n",
              "          docLink.innerHTML = docLinkHtml;\n",
              "          element.appendChild(docLink);\n",
              "        }\n",
              "      </script>\n",
              "    </div>\n",
              "  </div>\n",
              "  "
            ]
          },
          "metadata": {},
          "execution_count": 22
        }
      ]
    },
    {
      "cell_type": "markdown",
      "source": [
        "### **Information of the DataSet**"
      ],
      "metadata": {
        "id": "IWA2CoNNwZUL"
      }
    },
    {
      "cell_type": "code",
      "source": [
        "df.info()"
      ],
      "metadata": {
        "colab": {
          "base_uri": "https://localhost:8080/"
        },
        "id": "Gxy_BDSlc_nL",
        "outputId": "704dabbf-b1c4-4d97-d699-c6075a57b180"
      },
      "execution_count": 23,
      "outputs": [
        {
          "output_type": "stream",
          "name": "stdout",
          "text": [
            "<class 'pandas.core.frame.DataFrame'>\n",
            "RangeIndex: 756 entries, 0 to 755\n",
            "Columns: 755 entries, id to class\n",
            "dtypes: float64(749), int64(6)\n",
            "memory usage: 4.4 MB\n"
          ]
        }
      ]
    },
    {
      "cell_type": "markdown",
      "source": [
        "### **Shape of the DataSet**"
      ],
      "metadata": {
        "id": "vtb19Tg7wfRD"
      }
    },
    {
      "cell_type": "code",
      "source": [
        "df.shape"
      ],
      "metadata": {
        "colab": {
          "base_uri": "https://localhost:8080/"
        },
        "id": "D4MYCBIBdCOw",
        "outputId": "2d9b892e-b45b-447f-cdca-54e000dbf4c0"
      },
      "execution_count": 24,
      "outputs": [
        {
          "output_type": "execute_result",
          "data": {
            "text/plain": [
              "(756, 755)"
            ]
          },
          "metadata": {},
          "execution_count": 24
        }
      ]
    },
    {
      "cell_type": "markdown",
      "source": [
        "### **checking if there are any null values or not**"
      ],
      "metadata": {
        "id": "WtfOFi98woLx"
      }
    },
    {
      "cell_type": "code",
      "source": [
        "df.isnull().sum()"
      ],
      "metadata": {
        "colab": {
          "base_uri": "https://localhost:8080/"
        },
        "id": "EbLKk-osdEIU",
        "outputId": "d5c93601-32c6-4933-f74d-d2125b658dab"
      },
      "execution_count": 25,
      "outputs": [
        {
          "output_type": "execute_result",
          "data": {
            "text/plain": [
              "id                           0\n",
              "gender                       0\n",
              "PPE                          0\n",
              "DFA                          0\n",
              "RPDE                         0\n",
              "                            ..\n",
              "tqwt_kurtosisValue_dec_33    0\n",
              "tqwt_kurtosisValue_dec_34    0\n",
              "tqwt_kurtosisValue_dec_35    0\n",
              "tqwt_kurtosisValue_dec_36    0\n",
              "class                        0\n",
              "Length: 755, dtype: int64"
            ]
          },
          "metadata": {},
          "execution_count": 25
        }
      ]
    },
    {
      "cell_type": "code",
      "source": [
        "df.duplicated().sum()"
      ],
      "metadata": {
        "colab": {
          "base_uri": "https://localhost:8080/"
        },
        "id": "kn2QZflDdHrW",
        "outputId": "6cf79004-f8e5-4bab-ca75-0bdc389e543c"
      },
      "execution_count": 26,
      "outputs": [
        {
          "output_type": "execute_result",
          "data": {
            "text/plain": [
              "1"
            ]
          },
          "metadata": {},
          "execution_count": 26
        }
      ]
    },
    {
      "cell_type": "code",
      "source": [
        "df.drop_duplicates(inplace =True)"
      ],
      "metadata": {
        "id": "sxESCDNVdL2s"
      },
      "execution_count": 27,
      "outputs": []
    },
    {
      "cell_type": "code",
      "source": [
        "df.duplicated().sum()"
      ],
      "metadata": {
        "colab": {
          "base_uri": "https://localhost:8080/"
        },
        "id": "RlL5t3agdRrg",
        "outputId": "1a3d0e07-9c39-48e8-975f-5f84b30e8ff6"
      },
      "execution_count": 28,
      "outputs": [
        {
          "output_type": "execute_result",
          "data": {
            "text/plain": [
              "0"
            ]
          },
          "metadata": {},
          "execution_count": 28
        }
      ]
    },
    {
      "cell_type": "code",
      "source": [
        "df.shape"
      ],
      "metadata": {
        "colab": {
          "base_uri": "https://localhost:8080/"
        },
        "id": "wsiHGSWWdVZx",
        "outputId": "cd7762c9-cbb4-41d9-81ee-ed5a9fc28f79"
      },
      "execution_count": 17,
      "outputs": [
        {
          "output_type": "execute_result",
          "data": {
            "text/plain": [
              "(755, 755)"
            ]
          },
          "metadata": {},
          "execution_count": 17
        }
      ]
    },
    {
      "cell_type": "markdown",
      "source": [
        "# **Data Visualization**"
      ],
      "metadata": {
        "id": "HgqE0IsJwxdn"
      }
    },
    {
      "cell_type": "code",
      "source": [
        "import matplotlib.pyplot as plt\n",
        "import seaborn as sns\n",
        "import warnings\n",
        "warnings.filterwarnings('ignore')"
      ],
      "metadata": {
        "id": "MrGTBmSwdXd4"
      },
      "execution_count": 30,
      "outputs": []
    },
    {
      "cell_type": "markdown",
      "source": [
        "### **Pie Diagram**"
      ],
      "metadata": {
        "id": "hhxC7xtGw2UE"
      }
    },
    {
      "cell_type": "code",
      "source": [
        "plt.pie(df['gender'].value_counts(),labels=['Male','Female'],colors=['blue','yellow'],autopct='%0.2f')\n",
        "plt.show()"
      ],
      "metadata": {
        "colab": {
          "base_uri": "https://localhost:8080/",
          "height": 406
        },
        "id": "xXaMrcclfTSH",
        "outputId": "dcdb6c1b-1df3-47c4-c83a-44588e32093d"
      },
      "execution_count": 31,
      "outputs": [
        {
          "output_type": "display_data",
          "data": {
            "text/plain": [
              "<Figure size 640x480 with 1 Axes>"
            ],
            "image/png": "[encoded data removed]"
          },
          "metadata": {}
        }
      ]
    },
    {
      "cell_type": "code",
      "source": [
        "sns.countplot(x=df['class'])"
      ],
      "metadata": {
        "colab": {
          "base_uri": "https://localhost:8080/",
          "height": 466
        },
        "id": "B6ReFsoafqNW",
        "outputId": "b983ec61-7f42-4345-98f0-bc1aae8d2cbc"
      },
      "execution_count": 32,
      "outputs": [
        {
          "output_type": "execute_result",
          "data": {
            "text/plain": [
              "<Axes: xlabel='class', ylabel='count'>"
            ]
          },
          "metadata": {},
          "execution_count": 32
        },
        {
          "output_type": "display_data",
          "data": {
            "text/plain": [
              "<Figure size 640x480 with 1 Axes>"
            ],
            "image/png": "[encoded data removed]"
          },
          "metadata": {}
        }
      ]
    },
    {
      "cell_type": "code",
      "source": [
        "sns.histplot(df['numPulses'],kde=True)"
      ],
      "metadata": {
        "colab": {
          "base_uri": "https://localhost:8080/",
          "height": 466
        },
        "id": "kli_SAY1fusy",
        "outputId": "d0395293-a9db-42dd-8e28-6f03a07d1652"
      },
      "execution_count": 33,
      "outputs": [
        {
          "output_type": "execute_result",
          "data": {
            "text/plain": [
              "<Axes: xlabel='numPulses', ylabel='Count'>"
            ]
          },
          "metadata": {},
          "execution_count": 33
        },
        {
          "output_type": "display_data",
          "data": {
            "text/plain": [
              "<Figure size 640x480 with 1 Axes>"
            ],
            "image/png": "[encoded data removed]"
          },
          "metadata": {}
        }
      ]
    },
    {
      "cell_type": "code",
      "source": [
        "sns.histplot(df['numPeriodsPulses'])"
      ],
      "metadata": {
        "colab": {
          "base_uri": "https://localhost:8080/",
          "height": 466
        },
        "id": "B6FPCQUUf4UE",
        "outputId": "7b43e40f-dee5-4a06-cff7-651248c562d1"
      },
      "execution_count": 34,
      "outputs": [
        {
          "output_type": "execute_result",
          "data": {
            "text/plain": [
              "<Axes: xlabel='numPeriodsPulses', ylabel='Count'>"
            ]
          },
          "metadata": {},
          "execution_count": 34
        },
        {
          "output_type": "display_data",
          "data": {
            "text/plain": [
              "<Figure size 640x480 with 1 Axes>"
            ],
            "image/png": "[encoded data removed]"
          },
          "metadata": {}
        }
      ]
    },
    {
      "cell_type": "code",
      "source": [
        "sns.kdeplot(df['PPE'],shade=True, color=\"r\")\n",
        "sns.kdeplot(df['DFA'],shade=True, color=\"b\")"
      ],
      "metadata": {
        "colab": {
          "base_uri": "https://localhost:8080/",
          "height": 466
        },
        "id": "6FNQEx-lf_Xg",
        "outputId": "64baa0e0-be9e-4b16-f5d3-2ea767fff24e"
      },
      "execution_count": 35,
      "outputs": [
        {
          "output_type": "execute_result",
          "data": {
            "text/plain": [
              "<Axes: xlabel='PPE', ylabel='Density'>"
            ]
          },
          "metadata": {},
          "execution_count": 35
        },
        {
          "output_type": "display_data",
          "data": {
            "text/plain": [
              "<Figure size 640x480 with 1 Axes>"
            ],
            "image/png": "[encoded data removed]"
          },
          "metadata": {}
        }
      ]
    },
    {
      "cell_type": "code",
      "source": [
        "sns.kdeplot(df['meanPeriodPulses'],shade=True, color=\"g\")\n",
        "sns.kdeplot(df['stdDevPeriodPulses'],shade=True,color=\"y\")"
      ],
      "metadata": {
        "colab": {
          "base_uri": "https://localhost:8080/",
          "height": 466
        },
        "id": "5GfvgYc9gSi6",
        "outputId": "d004f30f-7da1-4f73-c7aa-91666c14b8ff"
      },
      "execution_count": 36,
      "outputs": [
        {
          "output_type": "execute_result",
          "data": {
            "text/plain": [
              "<Axes: xlabel='meanPeriodPulses', ylabel='Density'>"
            ]
          },
          "metadata": {},
          "execution_count": 36
        },
        {
          "output_type": "display_data",
          "data": {
            "text/plain": [
              "<Figure size 640x480 with 1 Axes>"
            ],
            "image/png": "[encoded data removed]"
          },
          "metadata": {}
        }
      ]
    },
    {
      "cell_type": "code",
      "source": [
        "sns.kdeplot(df['locPctJitter'],shade=True, color='violet')"
      ],
      "metadata": {
        "colab": {
          "base_uri": "https://localhost:8080/",
          "height": 471
        },
        "id": "2nOgCuYognDs",
        "outputId": "dcafce02-9cac-46c7-e3fb-d4285b83b01e"
      },
      "execution_count": 37,
      "outputs": [
        {
          "output_type": "execute_result",
          "data": {
            "text/plain": [
              "<Axes: xlabel='locPctJitter', ylabel='Density'>"
            ]
          },
          "metadata": {},
          "execution_count": 37
        },
        {
          "output_type": "display_data",
          "data": {
            "text/plain": [
              "<Figure size 640x480 with 1 Axes>"
            ],
            "image/png": "[encoded data removed]"
          },
          "metadata": {}
        }
      ]
    },
    {
      "cell_type": "markdown",
      "source": [
        "### **Making the Traing and Testing DataSet**"
      ],
      "metadata": {
        "id": "OLRnAt_dxAVo"
      }
    },
    {
      "cell_type": "code",
      "source": [
        "from sklearn.model_selection import train_test_split\n",
        "\n",
        "x = df.drop(\"gender\", axis = 1)\n",
        "y = df[\"gender\"]\n",
        "\n",
        "x_train,x_test,y_train,y_test=train_test_split(x, y, test_size=0.33, random_state=42)"
      ],
      "metadata": {
        "id": "6ysXGQB_g2Pr"
      },
      "execution_count": 38,
      "outputs": []
    },
    {
      "cell_type": "code",
      "source": [
        "x_train.head()"
      ],
      "metadata": {
        "colab": {
          "base_uri": "https://localhost:8080/",
          "height": 299
        },
        "id": "gSBXPWD-g57_",
        "outputId": "6b7e0155-c82f-4e51-c931-1ad72d798973"
      },
      "execution_count": 39,
      "outputs": [
        {
          "output_type": "execute_result",
          "data": {
            "text/plain": [
              "      id      PPE      DFA     RPDE  numPulses  numPeriodsPulses  \\\n",
              "665  221  0.75490  0.62956  0.59795        498               497   \n",
              "74    24  0.20452  0.70358  0.67909        286               285   \n",
              "383  127  0.81547  0.64809  0.60227        243               242   \n",
              "430  143  0.82421  0.67507  0.42552        247               246   \n",
              "245   81  0.55697  0.63389  0.64275         84                83   \n",
              "\n",
              "     meanPeriodPulses  stdDevPeriodPulses  locPctJitter  locAbsJitter  ...  \\\n",
              "665          0.003876            0.000099       0.00097      0.000004  ...   \n",
              "74           0.006754            0.002272       0.00333      0.000023  ...   \n",
              "383          0.007963            0.000090       0.00294      0.000023  ...   \n",
              "430          0.007795            0.000062       0.00133      0.000010  ...   \n",
              "245          0.005758            0.000129       0.00195      0.000011  ...   \n",
              "\n",
              "     tqwt_kurtosisValue_dec_28  tqwt_kurtosisValue_dec_29  \\\n",
              "665                     3.0159                     2.7802   \n",
              "74                      3.2624                     3.3508   \n",
              "383                     1.7875                     3.9243   \n",
              "430                     1.5302                    46.8701   \n",
              "245                     2.5572                     3.5344   \n",
              "\n",
              "     tqwt_kurtosisValue_dec_30  tqwt_kurtosisValue_dec_31  \\\n",
              "665                     3.2202                     3.6414   \n",
              "74                      3.3938                     3.5254   \n",
              "383                     5.6226                     4.8291   \n",
              "430                    34.2457                    32.0815   \n",
              "245                     6.1852                     3.7248   \n",
              "\n",
              "     tqwt_kurtosisValue_dec_32  tqwt_kurtosisValue_dec_33  \\\n",
              "665                     5.6255                     5.0766   \n",
              "74                      3.3666                     4.1292   \n",
              "383                     2.8282                     2.4950   \n",
              "430                    30.7043                    15.5721   \n",
              "245                     4.0866                     6.7750   \n",
              "\n",
              "     tqwt_kurtosisValue_dec_34  tqwt_kurtosisValue_dec_35  \\\n",
              "665                     3.5998                     2.9165   \n",
              "74                      5.7149                     3.9599   \n",
              "383                    13.3860                    13.2860   \n",
              "430                     8.4372                    10.8210   \n",
              "245                     5.2769                     2.4800   \n",
              "\n",
              "     tqwt_kurtosisValue_dec_36  class  \n",
              "665                     3.4242      0  \n",
              "74                      3.3665      0  \n",
              "383                    53.4437      1  \n",
              "430                    26.4979      1  \n",
              "245                     6.0410      1  \n",
              "\n",
              "[5 rows x 754 columns]"
            ],
            "text/html": [
              "\n",
              "  <div id=\"df-218906a9-32ce-4fe1-965d-ee414149c7fc\">\n",
              "    <div class=\"colab-df-container\">\n",
              "      <div>\n",
              "<style scoped>\n",
              "    .dataframe tbody tr th:only-of-type {\n",
              "        vertical-align: middle;\n",
              "    }\n",
              "\n",
              "    .dataframe tbody tr th {\n",
              "        vertical-align: top;\n",
              "    }\n",
              "\n",
              "    .dataframe thead th {\n",
              "        text-align: right;\n",
              "    }\n",
              "</style>\n",
              "<table border=\"1\" class=\"dataframe\">\n",
              "  <thead>\n",
              "    <tr style=\"text-align: right;\">\n",
              "      <th></th>\n",
              "      <th>id</th>\n",
              "      <th>PPE</th>\n",
              "      <th>DFA</th>\n",
              "      <th>RPDE</th>\n",
              "      <th>numPulses</th>\n",
              "      <th>numPeriodsPulses</th>\n",
              "      <th>meanPeriodPulses</th>\n",
              "      <th>stdDevPeriodPulses</th>\n",
              "      <th>locPctJitter</th>\n",
              "      <th>locAbsJitter</th>\n",
              "      <th>...</th>\n",
              "      <th>tqwt_kurtosisValue_dec_28</th>\n",
              "      <th>tqwt_kurtosisValue_dec_29</th>\n",
              "      <th>tqwt_kurtosisValue_dec_30</th>\n",
              "      <th>tqwt_kurtosisValue_dec_31</th>\n",
              "      <th>tqwt_kurtosisValue_dec_32</th>\n",
              "      <th>tqwt_kurtosisValue_dec_33</th>\n",
              "      <th>tqwt_kurtosisValue_dec_34</th>\n",
              "      <th>tqwt_kurtosisValue_dec_35</th>\n",
              "      <th>tqwt_kurtosisValue_dec_36</th>\n",
              "      <th>class</th>\n",
              "    </tr>\n",
              "  </thead>\n",
              "  <tbody>\n",
              "    <tr>\n",
              "      <th>665</th>\n",
              "      <td>221</td>\n",
              "      <td>0.75490</td>\n",
              "      <td>0.62956</td>\n",
              "      <td>0.59795</td>\n",
              "      <td>498</td>\n",
              "      <td>497</td>\n",
              "      <td>0.003876</td>\n",
              "      <td>0.000099</td>\n",
              "      <td>0.00097</td>\n",
              "      <td>0.000004</td>\n",
              "      <td>...</td>\n",
              "      <td>3.0159</td>\n",
              "      <td>2.7802</td>\n",
              "      <td>3.2202</td>\n",
              "      <td>3.6414</td>\n",
              "      <td>5.6255</td>\n",
              "      <td>5.0766</td>\n",
              "      <td>3.5998</td>\n",
              "      <td>2.9165</td>\n",
              "      <td>3.4242</td>\n",
              "      <td>0</td>\n",
              "    </tr>\n",
              "    <tr>\n",
              "      <th>74</th>\n",
              "      <td>24</td>\n",
              "      <td>0.20452</td>\n",
              "      <td>0.70358</td>\n",
              "      <td>0.67909</td>\n",
              "      <td>286</td>\n",
              "      <td>285</td>\n",
              "      <td>0.006754</td>\n",
              "      <td>0.002272</td>\n",
              "      <td>0.00333</td>\n",
              "      <td>0.000023</td>\n",
              "      <td>...</td>\n",
              "      <td>3.2624</td>\n",
              "      <td>3.3508</td>\n",
              "      <td>3.3938</td>\n",
              "      <td>3.5254</td>\n",
              "      <td>3.3666</td>\n",
              "      <td>4.1292</td>\n",
              "      <td>5.7149</td>\n",
              "      <td>3.9599</td>\n",
              "      <td>3.3665</td>\n",
              "      <td>0</td>\n",
              "    </tr>\n",
              "    <tr>\n",
              "      <th>383</th>\n",
              "      <td>127</td>\n",
              "      <td>0.81547</td>\n",
              "      <td>0.64809</td>\n",
              "      <td>0.60227</td>\n",
              "      <td>243</td>\n",
              "      <td>242</td>\n",
              "      <td>0.007963</td>\n",
              "      <td>0.000090</td>\n",
              "      <td>0.00294</td>\n",
              "      <td>0.000023</td>\n",
              "      <td>...</td>\n",
              "      <td>1.7875</td>\n",
              "      <td>3.9243</td>\n",
              "      <td>5.6226</td>\n",
              "      <td>4.8291</td>\n",
              "      <td>2.8282</td>\n",
              "      <td>2.4950</td>\n",
              "      <td>13.3860</td>\n",
              "      <td>13.2860</td>\n",
              "      <td>53.4437</td>\n",
              "      <td>1</td>\n",
              "    </tr>\n",
              "    <tr>\n",
              "      <th>430</th>\n",
              "      <td>143</td>\n",
              "      <td>0.82421</td>\n",
              "      <td>0.67507</td>\n",
              "      <td>0.42552</td>\n",
              "      <td>247</td>\n",
              "      <td>246</td>\n",
              "      <td>0.007795</td>\n",
              "      <td>0.000062</td>\n",
              "      <td>0.00133</td>\n",
              "      <td>0.000010</td>\n",
              "      <td>...</td>\n",
              "      <td>1.5302</td>\n",
              "      <td>46.8701</td>\n",
              "      <td>34.2457</td>\n",
              "      <td>32.0815</td>\n",
              "      <td>30.7043</td>\n",
              "      <td>15.5721</td>\n",
              "      <td>8.4372</td>\n",
              "      <td>10.8210</td>\n",
              "      <td>26.4979</td>\n",
              "      <td>1</td>\n",
              "    </tr>\n",
              "    <tr>\n",
              "      <th>245</th>\n",
              "      <td>81</td>\n",
              "      <td>0.55697</td>\n",
              "      <td>0.63389</td>\n",
              "      <td>0.64275</td>\n",
              "      <td>84</td>\n",
              "      <td>83</td>\n",
              "      <td>0.005758</td>\n",
              "      <td>0.000129</td>\n",
              "      <td>0.00195</td>\n",
              "      <td>0.000011</td>\n",
              "      <td>...</td>\n",
              "      <td>2.5572</td>\n",
              "      <td>3.5344</td>\n",
              "      <td>6.1852</td>\n",
              "      <td>3.7248</td>\n",
              "      <td>4.0866</td>\n",
              "      <td>6.7750</td>\n",
              "      <td>5.2769</td>\n",
              "      <td>2.4800</td>\n",
              "      <td>6.0410</td>\n",
              "      <td>1</td>\n",
              "    </tr>\n",
              "  </tbody>\n",
              "</table>\n",
              "<p>5 rows × 754 columns</p>\n",
              "</div>\n",
              "      <button class=\"colab-df-convert\" onclick=\"convertToInteractive('df-218906a9-32ce-4fe1-965d-ee414149c7fc')\"\n",
              "              title=\"Convert this dataframe to an interactive table.\"\n",
              "              style=\"display:none;\">\n",
              "        \n",
              "  <svg xmlns=\"http://www.w3.org/2000/svg\" height=\"24px\"viewBox=\"0 0 24 24\"\n",
              "       width=\"24px\">\n",
              "    <path d=\"M0 0h24v24H0V0z\" fill=\"none\"/>\n",
              "    <path d=\"M18.56 5.44l.94 2.06.94-2.06 2.06-.94-2.06-.94-.94-2.06-.94 2.06-2.06.94zm-11 1L8.5 8.5l.94-2.06 2.06-.94-2.06-.94L8.5 2.5l-.94 2.06-2.06.94zm10 10l.94 2.06.94-2.06 2.06-.94-2.06-.94-.94-2.06-.94 2.06-2.06.94z\"/><path d=\"M17.41 7.96l-1.37-1.37c-.4-.4-.92-.59-1.43-.59-.52 0-1.04.2-1.43.59L10.3 9.45l-7.72 7.72c-.78.78-.78 2.05 0 2.83L4 21.41c.39.39.9.59 1.41.59.51 0 1.02-.2 1.41-.59l7.78-7.78 2.81-2.81c.8-.78.8-2.07 0-2.86zM5.41 20L4 18.59l7.72-7.72 1.47 1.35L5.41 20z\"/>\n",
              "  </svg>\n",
              "      </button>\n",
              "      \n",
              "  <style>\n",
              "    .colab-df-container {\n",
              "      display:flex;\n",
              "      flex-wrap:wrap;\n",
              "      gap: 12px;\n",
              "    }\n",
              "\n",
              "    .colab-df-convert {\n",
              "      background-color: #E8F0FE;\n",
              "      border: none;\n",
              "      border-radius: 50%;\n",
              "      cursor: pointer;\n",
              "      display: none;\n",
              "      fill: #1967D2;\n",
              "      height: 32px;\n",
              "      padding: 0 0 0 0;\n",
              "      width: 32px;\n",
              "    }\n",
              "\n",
              "    .colab-df-convert:hover {\n",
              "      background-color: #E2EBFA;\n",
              "      box-shadow: 0px 1px 2px rgba(60, 64, 67, 0.3), 0px 1px 3px 1px rgba(60, 64, 67, 0.15);\n",
              "      fill: #174EA6;\n",
              "    }\n",
              "\n",
              "    [theme=dark] .colab-df-convert {\n",
              "      background-color: #3B4455;\n",
              "      fill: #D2E3FC;\n",
              "    }\n",
              "\n",
              "    [theme=dark] .colab-df-convert:hover {\n",
              "      background-color: #434B5C;\n",
              "      box-shadow: 0px 1px 3px 1px rgba(0, 0, 0, 0.15);\n",
              "      filter: drop-shadow(0px 1px 2px rgba(0, 0, 0, 0.3));\n",
              "      fill: #FFFFFF;\n",
              "    }\n",
              "  </style>\n",
              "\n",
              "      <script>\n",
              "        const buttonEl =\n",
              "          document.querySelector('#df-218906a9-32ce-4fe1-965d-ee414149c7fc button.colab-df-convert');\n",
              "        buttonEl.style.display =\n",
              "          google.colab.kernel.accessAllowed ? 'block' : 'none';\n",
              "\n",
              "        async function convertToInteractive(key) {\n",
              "          const element = document.querySelector('#df-218906a9-32ce-4fe1-965d-ee414149c7fc');\n",
              "          const dataTable =\n",
              "            await google.colab.kernel.invokeFunction('convertToInteractive',\n",
              "                                                     [key], {});\n",
              "          if (!dataTable) return;\n",
              "\n",
              "          const docLinkHtml = 'Like what you see? Visit the ' +\n",
              "            '<a target=\"_blank\" href=https://colab.research.google.com/notebooks/data_table.ipynb>data table notebook</a>'\n",
              "            + ' to learn more about interactive tables.';\n",
              "          element.innerHTML = '';\n",
              "          dataTable['output_type'] = 'display_data';\n",
              "          await google.colab.output.renderOutput(dataTable, element);\n",
              "          const docLink = document.createElement('div');\n",
              "          docLink.innerHTML = docLinkHtml;\n",
              "          element.appendChild(docLink);\n",
              "        }\n",
              "      </script>\n",
              "    </div>\n",
              "  </div>\n",
              "  "
            ]
          },
          "metadata": {},
          "execution_count": 39
        }
      ]
    },
    {
      "cell_type": "code",
      "source": [
        "y_train.head()"
      ],
      "metadata": {
        "colab": {
          "base_uri": "https://localhost:8080/"
        },
        "id": "ORd4sQtBg8Wh",
        "outputId": "8f1aa728-7196-46b9-bf3c-69a35407cb7d"
      },
      "execution_count": 40,
      "outputs": [
        {
          "output_type": "execute_result",
          "data": {
            "text/plain": [
              "665    0\n",
              "74     0\n",
              "383    1\n",
              "430    1\n",
              "245    1\n",
              "Name: gender, dtype: int64"
            ]
          },
          "metadata": {},
          "execution_count": 40
        }
      ]
    },
    {
      "cell_type": "code",
      "source": [
        "x_test.head()"
      ],
      "metadata": {
        "colab": {
          "base_uri": "https://localhost:8080/",
          "height": 299
        },
        "id": "l7GKW-UbhAeZ",
        "outputId": "f31ff3a9-1ed0-4e9f-a8ed-f3d78d1e3d69"
      },
      "execution_count": 41,
      "outputs": [
        {
          "output_type": "execute_result",
          "data": {
            "text/plain": [
              "      id      PPE      DFA     RPDE  numPulses  numPeriodsPulses  \\\n",
              "292   97  0.74238  0.65942  0.61841        308               307   \n",
              "537  179  0.24164  0.78342  0.63352        239               238   \n",
              "39    13  0.80169  0.72330  0.32538        344               343   \n",
              "77    25  0.83865  0.76831  0.34722        345               344   \n",
              "494  164  0.16701  0.70700  0.61779        226               224   \n",
              "\n",
              "     meanPeriodPulses  stdDevPeriodPulses  locPctJitter  locAbsJitter  ...  \\\n",
              "292          0.006233            0.000982       0.00373      0.000023  ...   \n",
              "537          0.008095            0.000158       0.00214      0.000017  ...   \n",
              "39           0.005614            0.000062       0.00074      0.000004  ...   \n",
              "77           0.005599            0.000053       0.00082      0.000005  ...   \n",
              "494          0.007890            0.000074       0.00303      0.000024  ...   \n",
              "\n",
              "     tqwt_kurtosisValue_dec_28  tqwt_kurtosisValue_dec_29  \\\n",
              "292                     3.0604                     3.3770   \n",
              "537                     1.6122                    14.7791   \n",
              "39                    150.5036                   118.3144   \n",
              "77                     26.1771                    13.3119   \n",
              "494                     1.5644                     3.1888   \n",
              "\n",
              "     tqwt_kurtosisValue_dec_30  tqwt_kurtosisValue_dec_31  \\\n",
              "292                     2.8384                     2.8505   \n",
              "537                    20.4438                     5.5828   \n",
              "39                     77.3232                    31.2491   \n",
              "77                     10.7551                    11.3129   \n",
              "494                     5.3921                     5.5085   \n",
              "\n",
              "     tqwt_kurtosisValue_dec_32  tqwt_kurtosisValue_dec_33  \\\n",
              "292                     2.5835                     2.2579   \n",
              "537                     4.4942                     6.0828   \n",
              "39                     24.3041                    33.0818   \n",
              "77                     10.2577                    11.5123   \n",
              "494                     3.0158                     5.3762   \n",
              "\n",
              "     tqwt_kurtosisValue_dec_34  tqwt_kurtosisValue_dec_35  \\\n",
              "292                    10.5575                    11.7078   \n",
              "537                    14.0307                    10.6460   \n",
              "39                     22.9303                    10.9895   \n",
              "77                     14.1357                    14.1944   \n",
              "494                     5.5850                     6.8229   \n",
              "\n",
              "     tqwt_kurtosisValue_dec_36  class  \n",
              "292                    29.9406      1  \n",
              "537                    10.9042      1  \n",
              "39                      5.9725      1  \n",
              "77                      6.2589      1  \n",
              "494                    35.8466      1  \n",
              "\n",
              "[5 rows x 754 columns]"
            ],
            "text/html": [
              "\n",
              "  <div id=\"df-4bdb6ee2-6ed1-4cd7-b0a5-4f6dcfeefc14\">\n",
              "    <div class=\"colab-df-container\">\n",
              "      <div>\n",
              "<style scoped>\n",
              "    .dataframe tbody tr th:only-of-type {\n",
              "        vertical-align: middle;\n",
              "    }\n",
              "\n",
              "    .dataframe tbody tr th {\n",
              "        vertical-align: top;\n",
              "    }\n",
              "\n",
              "    .dataframe thead th {\n",
              "        text-align: right;\n",
              "    }\n",
              "</style>\n",
              "<table border=\"1\" class=\"dataframe\">\n",
              "  <thead>\n",
              "    <tr style=\"text-align: right;\">\n",
              "      <th></th>\n",
              "      <th>id</th>\n",
              "      <th>PPE</th>\n",
              "      <th>DFA</th>\n",
              "      <th>RPDE</th>\n",
              "      <th>numPulses</th>\n",
              "      <th>numPeriodsPulses</th>\n",
              "      <th>meanPeriodPulses</th>\n",
              "      <th>stdDevPeriodPulses</th>\n",
              "      <th>locPctJitter</th>\n",
              "      <th>locAbsJitter</th>\n",
              "      <th>...</th>\n",
              "      <th>tqwt_kurtosisValue_dec_28</th>\n",
              "      <th>tqwt_kurtosisValue_dec_29</th>\n",
              "      <th>tqwt_kurtosisValue_dec_30</th>\n",
              "      <th>tqwt_kurtosisValue_dec_31</th>\n",
              "      <th>tqwt_kurtosisValue_dec_32</th>\n",
              "      <th>tqwt_kurtosisValue_dec_33</th>\n",
              "      <th>tqwt_kurtosisValue_dec_34</th>\n",
              "      <th>tqwt_kurtosisValue_dec_35</th>\n",
              "      <th>tqwt_kurtosisValue_dec_36</th>\n",
              "      <th>class</th>\n",
              "    </tr>\n",
              "  </thead>\n",
              "  <tbody>\n",
              "    <tr>\n",
              "      <th>292</th>\n",
              "      <td>97</td>\n",
              "      <td>0.74238</td>\n",
              "      <td>0.65942</td>\n",
              "      <td>0.61841</td>\n",
              "      <td>308</td>\n",
              "      <td>307</td>\n",
              "      <td>0.006233</td>\n",
              "      <td>0.000982</td>\n",
              "      <td>0.00373</td>\n",
              "      <td>0.000023</td>\n",
              "      <td>...</td>\n",
              "      <td>3.0604</td>\n",
              "      <td>3.3770</td>\n",
              "      <td>2.8384</td>\n",
              "      <td>2.8505</td>\n",
              "      <td>2.5835</td>\n",
              "      <td>2.2579</td>\n",
              "      <td>10.5575</td>\n",
              "      <td>11.7078</td>\n",
              "      <td>29.9406</td>\n",
              "      <td>1</td>\n",
              "    </tr>\n",
              "    <tr>\n",
              "      <th>537</th>\n",
              "      <td>179</td>\n",
              "      <td>0.24164</td>\n",
              "      <td>0.78342</td>\n",
              "      <td>0.63352</td>\n",
              "      <td>239</td>\n",
              "      <td>238</td>\n",
              "      <td>0.008095</td>\n",
              "      <td>0.000158</td>\n",
              "      <td>0.00214</td>\n",
              "      <td>0.000017</td>\n",
              "      <td>...</td>\n",
              "      <td>1.6122</td>\n",
              "      <td>14.7791</td>\n",
              "      <td>20.4438</td>\n",
              "      <td>5.5828</td>\n",
              "      <td>4.4942</td>\n",
              "      <td>6.0828</td>\n",
              "      <td>14.0307</td>\n",
              "      <td>10.6460</td>\n",
              "      <td>10.9042</td>\n",
              "      <td>1</td>\n",
              "    </tr>\n",
              "    <tr>\n",
              "      <th>39</th>\n",
              "      <td>13</td>\n",
              "      <td>0.80169</td>\n",
              "      <td>0.72330</td>\n",
              "      <td>0.32538</td>\n",
              "      <td>344</td>\n",
              "      <td>343</td>\n",
              "      <td>0.005614</td>\n",
              "      <td>0.000062</td>\n",
              "      <td>0.00074</td>\n",
              "      <td>0.000004</td>\n",
              "      <td>...</td>\n",
              "      <td>150.5036</td>\n",
              "      <td>118.3144</td>\n",
              "      <td>77.3232</td>\n",
              "      <td>31.2491</td>\n",
              "      <td>24.3041</td>\n",
              "      <td>33.0818</td>\n",
              "      <td>22.9303</td>\n",
              "      <td>10.9895</td>\n",
              "      <td>5.9725</td>\n",
              "      <td>1</td>\n",
              "    </tr>\n",
              "    <tr>\n",
              "      <th>77</th>\n",
              "      <td>25</td>\n",
              "      <td>0.83865</td>\n",
              "      <td>0.76831</td>\n",
              "      <td>0.34722</td>\n",
              "      <td>345</td>\n",
              "      <td>344</td>\n",
              "      <td>0.005599</td>\n",
              "      <td>0.000053</td>\n",
              "      <td>0.00082</td>\n",
              "      <td>0.000005</td>\n",
              "      <td>...</td>\n",
              "      <td>26.1771</td>\n",
              "      <td>13.3119</td>\n",
              "      <td>10.7551</td>\n",
              "      <td>11.3129</td>\n",
              "      <td>10.2577</td>\n",
              "      <td>11.5123</td>\n",
              "      <td>14.1357</td>\n",
              "      <td>14.1944</td>\n",
              "      <td>6.2589</td>\n",
              "      <td>1</td>\n",
              "    </tr>\n",
              "    <tr>\n",
              "      <th>494</th>\n",
              "      <td>164</td>\n",
              "      <td>0.16701</td>\n",
              "      <td>0.70700</td>\n",
              "      <td>0.61779</td>\n",
              "      <td>226</td>\n",
              "      <td>224</td>\n",
              "      <td>0.007890</td>\n",
              "      <td>0.000074</td>\n",
              "      <td>0.00303</td>\n",
              "      <td>0.000024</td>\n",
              "      <td>...</td>\n",
              "      <td>1.5644</td>\n",
              "      <td>3.1888</td>\n",
              "      <td>5.3921</td>\n",
              "      <td>5.5085</td>\n",
              "      <td>3.0158</td>\n",
              "      <td>5.3762</td>\n",
              "      <td>5.5850</td>\n",
              "      <td>6.8229</td>\n",
              "      <td>35.8466</td>\n",
              "      <td>1</td>\n",
              "    </tr>\n",
              "  </tbody>\n",
              "</table>\n",
              "<p>5 rows × 754 columns</p>\n",
              "</div>\n",
              "      <button class=\"colab-df-convert\" onclick=\"convertToInteractive('df-4bdb6ee2-6ed1-4cd7-b0a5-4f6dcfeefc14')\"\n",
              "              title=\"Convert this dataframe to an interactive table.\"\n",
              "              style=\"display:none;\">\n",
              "        \n",
              "  <svg xmlns=\"http://www.w3.org/2000/svg\" height=\"24px\"viewBox=\"0 0 24 24\"\n",
              "       width=\"24px\">\n",
              "    <path d=\"M0 0h24v24H0V0z\" fill=\"none\"/>\n",
              "    <path d=\"M18.56 5.44l.94 2.06.94-2.06 2.06-.94-2.06-.94-.94-2.06-.94 2.06-2.06.94zm-11 1L8.5 8.5l.94-2.06 2.06-.94-2.06-.94L8.5 2.5l-.94 2.06-2.06.94zm10 10l.94 2.06.94-2.06 2.06-.94-2.06-.94-.94-2.06-.94 2.06-2.06.94z\"/><path d=\"M17.41 7.96l-1.37-1.37c-.4-.4-.92-.59-1.43-.59-.52 0-1.04.2-1.43.59L10.3 9.45l-7.72 7.72c-.78.78-.78 2.05 0 2.83L4 21.41c.39.39.9.59 1.41.59.51 0 1.02-.2 1.41-.59l7.78-7.78 2.81-2.81c.8-.78.8-2.07 0-2.86zM5.41 20L4 18.59l7.72-7.72 1.47 1.35L5.41 20z\"/>\n",
              "  </svg>\n",
              "      </button>\n",
              "      \n",
              "  <style>\n",
              "    .colab-df-container {\n",
              "      display:flex;\n",
              "      flex-wrap:wrap;\n",
              "      gap: 12px;\n",
              "    }\n",
              "\n",
              "    .colab-df-convert {\n",
              "      background-color: #E8F0FE;\n",
              "      border: none;\n",
              "      border-radius: 50%;\n",
              "      cursor: pointer;\n",
              "      display: none;\n",
              "      fill: #1967D2;\n",
              "      height: 32px;\n",
              "      padding: 0 0 0 0;\n",
              "      width: 32px;\n",
              "    }\n",
              "\n",
              "    .colab-df-convert:hover {\n",
              "      background-color: #E2EBFA;\n",
              "      box-shadow: 0px 1px 2px rgba(60, 64, 67, 0.3), 0px 1px 3px 1px rgba(60, 64, 67, 0.15);\n",
              "      fill: #174EA6;\n",
              "    }\n",
              "\n",
              "    [theme=dark] .colab-df-convert {\n",
              "      background-color: #3B4455;\n",
              "      fill: #D2E3FC;\n",
              "    }\n",
              "\n",
              "    [theme=dark] .colab-df-convert:hover {\n",
              "      background-color: #434B5C;\n",
              "      box-shadow: 0px 1px 3px 1px rgba(0, 0, 0, 0.15);\n",
              "      filter: drop-shadow(0px 1px 2px rgba(0, 0, 0, 0.3));\n",
              "      fill: #FFFFFF;\n",
              "    }\n",
              "  </style>\n",
              "\n",
              "      <script>\n",
              "        const buttonEl =\n",
              "          document.querySelector('#df-4bdb6ee2-6ed1-4cd7-b0a5-4f6dcfeefc14 button.colab-df-convert');\n",
              "        buttonEl.style.display =\n",
              "          google.colab.kernel.accessAllowed ? 'block' : 'none';\n",
              "\n",
              "        async function convertToInteractive(key) {\n",
              "          const element = document.querySelector('#df-4bdb6ee2-6ed1-4cd7-b0a5-4f6dcfeefc14');\n",
              "          const dataTable =\n",
              "            await google.colab.kernel.invokeFunction('convertToInteractive',\n",
              "                                                     [key], {});\n",
              "          if (!dataTable) return;\n",
              "\n",
              "          const docLinkHtml = 'Like what you see? Visit the ' +\n",
              "            '<a target=\"_blank\" href=https://colab.research.google.com/notebooks/data_table.ipynb>data table notebook</a>'\n",
              "            + ' to learn more about interactive tables.';\n",
              "          element.innerHTML = '';\n",
              "          dataTable['output_type'] = 'display_data';\n",
              "          await google.colab.output.renderOutput(dataTable, element);\n",
              "          const docLink = document.createElement('div');\n",
              "          docLink.innerHTML = docLinkHtml;\n",
              "          element.appendChild(docLink);\n",
              "        }\n",
              "      </script>\n",
              "    </div>\n",
              "  </div>\n",
              "  "
            ]
          },
          "metadata": {},
          "execution_count": 41
        }
      ]
    },
    {
      "cell_type": "code",
      "source": [
        "y_train.head()"
      ],
      "metadata": {
        "colab": {
          "base_uri": "https://localhost:8080/"
        },
        "id": "7Z5OnlHBhEQB",
        "outputId": "7f6c7aed-824a-4599-b877-549d7a362808"
      },
      "execution_count": 42,
      "outputs": [
        {
          "output_type": "execute_result",
          "data": {
            "text/plain": [
              "665    0\n",
              "74     0\n",
              "383    1\n",
              "430    1\n",
              "245    1\n",
              "Name: gender, dtype: int64"
            ]
          },
          "metadata": {},
          "execution_count": 42
        }
      ]
    },
    {
      "cell_type": "markdown",
      "source": [
        "# **Logistic Regression**"
      ],
      "metadata": {
        "id": "II7Hp_K3xQL_"
      }
    },
    {
      "cell_type": "code",
      "source": [
        "from sklearn.linear_model import LogisticRegression\n",
        "\n",
        "LR = LogisticRegression()\n",
        "LR.fit(x_train,y_train)\n",
        "LogisticRegression()\n",
        "pred_lr=LR.predict(x_test)\n",
        "LR.score(x_test, y_test)"
      ],
      "metadata": {
        "colab": {
          "base_uri": "https://localhost:8080/"
        },
        "id": "yneSgygjhHQR",
        "outputId": "7d5d0ca1-c09d-4edf-be70-1db539481d15"
      },
      "execution_count": 43,
      "outputs": [
        {
          "output_type": "execute_result",
          "data": {
            "text/plain": [
              "0.78"
            ]
          },
          "metadata": {},
          "execution_count": 43
        }
      ]
    },
    {
      "cell_type": "code",
      "source": [
        "from sklearn.metrics import accuracy_score"
      ],
      "metadata": {
        "id": "hT4b4ov5hK-k"
      },
      "execution_count": 44,
      "outputs": []
    },
    {
      "cell_type": "markdown",
      "source": [
        "# **Decision Tree Classifier**"
      ],
      "metadata": {
        "id": "xqSf_TwPxWAl"
      }
    },
    {
      "cell_type": "code",
      "source": [
        "from sklearn.tree import DecisionTreeClassifier\n",
        "dtc=DecisionTreeClassifier()\n",
        "model4=dtc.fit(x_train,y_train)\n",
        "prediction2=model4.predict(x_test)\n",
        "accuracy_score(y_test,prediction2)"
      ],
      "metadata": {
        "colab": {
          "base_uri": "https://localhost:8080/"
        },
        "id": "WimypaU0hR2k",
        "outputId": "8ab34c4d-6f4f-49f6-bcb7-df06e5a4c2cd"
      },
      "execution_count": 46,
      "outputs": [
        {
          "output_type": "execute_result",
          "data": {
            "text/plain": [
              "0.824"
            ]
          },
          "metadata": {},
          "execution_count": 46
        }
      ]
    },
    {
      "cell_type": "markdown",
      "source": [
        "# **Random Forest Classifier**"
      ],
      "metadata": {
        "id": "mi8VJmnjxcb5"
      }
    },
    {
      "cell_type": "code",
      "source": [
        "from sklearn.ensemble import RandomForestClassifier\n",
        "rfc=RandomForestClassifier()\n",
        "model8=rfc.fit(x_train,y_train)\n",
        "prediction3=model8.predict(x_test)\n",
        "accuracy_score(y_test,prediction3)"
      ],
      "metadata": {
        "colab": {
          "base_uri": "https://localhost:8080/"
        },
        "id": "tGmeQ3q8hXsn",
        "outputId": "02061846-310d-4b61-c192-f4991c442fa8"
      },
      "execution_count": 47,
      "outputs": [
        {
          "output_type": "execute_result",
          "data": {
            "text/plain": [
              "0.876"
            ]
          },
          "metadata": {},
          "execution_count": 47
        }
      ]
    },
    {
      "cell_type": "markdown",
      "source": [
        "### **So Random Forest Classifier gives the best Accuracy**"
      ],
      "metadata": {
        "id": "19HHzc0ixkeg"
      }
    },
    {
      "cell_type": "code",
      "source": [],
      "metadata": {
        "id": "9TVe3YbchYtB"
      },
      "execution_count": null,
      "outputs": []
    }
  ]
}